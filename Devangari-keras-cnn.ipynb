{
 "cells": [
  {
   "cell_type": "code",
   "execution_count": 1,
   "metadata": {
    "scrolled": true
   },
   "outputs": [
    {
     "name": "stdout",
     "output_type": "stream",
     "text": [
      "hdf5 is not supported on this machine (please install/reinstall h5py for optimal experience)\n"
     ]
    }
   ],
   "source": [
    "import numpy as np\n",
    "import pandas as pd\n",
    "import tensorflow as tf\n",
    "import tflearn\n",
    "import matplotlib.pyplot as plt\n",
    "import seaborn as sns\n",
    "%matplotlib inline\n",
    "from sklearn.model_selection import train_test_split"
   ]
  },
  {
   "cell_type": "code",
   "execution_count": 2,
   "metadata": {},
   "outputs": [
    {
     "data": {
      "text/plain": [
       "92000"
      ]
     },
     "execution_count": 2,
     "metadata": {},
     "output_type": "execute_result"
    }
   ],
   "source": [
    "# Read data\n",
    "dataset = pd.read_csv(\"Data/data.csv\")\n",
    "\n",
    "# Length of data\n",
    "len(dataset)"
   ]
  },
  {
   "cell_type": "code",
   "execution_count": 3,
   "metadata": {
    "collapsed": true
   },
   "outputs": [],
   "source": [
    "# Plot dataset examples\n",
    "X = dataset.iloc[:,:-1]\n",
    "Y = dataset.iloc[:,-1]\n",
    "\n",
    "# Number of pixels\n",
    "number_of_pixels = X.shape[1]\n",
    "num_classes = 46 # Number of classes\n",
    "img_width = 32 \n",
    "img_height = 32\n",
    "img_depth = 1\n",
    "\n",
    "X_images = X.values.reshape(X.shape[0], img_width, img_height) #gives a new shape to array without chaging the values of the data"
   ]
  },
  {
   "cell_type": "code",
   "execution_count": 4,
   "metadata": {},
   "outputs": [
    {
     "data": {
      "image/png": "[encoded data removed]",
      "text/plain": [
       "<matplotlib.figure.Figure at 0x117b4d3d0>"
      ]
     },
     "metadata": {},
     "output_type": "display_data"
    }
   ],
   "source": [
    "# Show the first 4 images\n",
    "for i in range(1, 5):    \n",
    "    plt.subplot(240+i)\n",
    "    plt.axis('off')\n",
    "    plt.imshow(X_images[i-1], cmap=plt.get_cmap('gray'))\n",
    "plt.show()"
   ]
  },
  {
   "cell_type": "code",
   "execution_count": 5,
   "metadata": {
    "collapsed": true
   },
   "outputs": [],
   "source": [
    "# Remove bad data\n",
    "remove = np.where(dataset.iloc[:,1024].values==1024)\n",
    "dataset = dataset.drop(dataset.index[remove[0]])\n",
    "X = dataset.iloc[:,:-1]\n",
    "X_images = X.values.reshape(X.shape[0], img_width, img_height)\n",
    "Y = dataset.iloc[:,-1]"
   ]
  },
  {
   "cell_type": "code",
   "execution_count": 6,
   "metadata": {
    "collapsed": true
   },
   "outputs": [],
   "source": [
    "from sklearn.preprocessing import LabelBinarizer\n",
    "binencoder = LabelBinarizer()\n",
    "Y = binencoder.fit_transform(Y)"
   ]
  },
  {
   "cell_type": "code",
   "execution_count": 8,
   "metadata": {},
   "outputs": [
    {
     "name": "stderr",
     "output_type": "stream",
     "text": [
      "Using TensorFlow backend.\n"
     ]
    }
   ],
   "source": [
    "#import keras for the deep learning libraries\n",
    "from keras.models import Sequential\n",
    "from keras.layers import Dense\n",
    "from keras.models import Model\n",
    "from keras.layers import Dropout\n",
    "from keras.layers import Flatten\n",
    "from keras.callbacks import EarlyStopping\n",
    "from keras.layers.convolutional import Conv2D\n",
    "from keras.layers.convolutional import MaxPooling2D\n",
    "from keras.utils import np_utils"
   ]
  },
  {
   "cell_type": "code",
   "execution_count": 9,
   "metadata": {
    "collapsed": true
   },
   "outputs": [],
   "source": [
    "seed = 123 \n",
    "X_train, X_test, y_train, y_test = train_test_split(X_images, Y, test_size=0.20, random_state=seed)\n",
    "\n",
    "X_train = X_train/255\n",
    "X_test = X_test/255\n",
    "\n",
    "X_train = X_train.reshape(X_train.shape[0], img_width, img_height, img_depth).astype('float32')\n",
    "X_test = X_test.reshape(X_test.shape[0], img_width, img_height, img_depth).astype('float32')"
   ]
  },
  {
   "cell_type": "code",
   "execution_count": 12,
   "metadata": {
    "collapsed": true
   },
   "outputs": [],
   "source": [
    "def cnn_model():\n",
    "    model = Sequential()\n",
    "    model.add(Conv2D(32, (4, 4), input_shape=(img_height, img_width, img_depth), \n",
    "                     activation='relu', name=\"conv_1\"))\n",
    "    model.add(MaxPooling2D(pool_size=(2, 2), name=\"pool_1\"))\n",
    "    model.add(Conv2D(64, (3, 3), activation='relu', name=\"conv_2\"))\n",
    "    model.add(MaxPooling2D(pool_size=(2, 2), name=\"pool_2\"))\n",
    "    model.add(Dropout(0.2))\n",
    "    model.add(Flatten())\n",
    "    model.add(Dense(128, activation='relu', name=\"dense_1\"))\n",
    "    model.add(Dense(50, activation='relu', name=\"dense_2\"))\n",
    "    model.add(Dense(num_classes, activation='softmax', name=\"modeloutput\"))\n",
    "    \n",
    "    model.compile(loss='categorical_crossentropy', optimizer='adam', metrics=['accuracy'])\n",
    "    return model"
   ]
  },
  {
   "cell_type": "code",
   "execution_count": 14,
   "metadata": {},
   "outputs": [
    {
     "name": "stdout",
     "output_type": "stream",
     "text": [
      "Train on 62560 samples, validate on 11040 samples\n",
      "Epoch 1/10\n",
      " - 100s - loss: 1.3464 - acc: 0.6381 - val_loss: 0.6578 - val_acc: 0.8133\n",
      "Epoch 2/10\n",
      " - 95s - loss: 0.5443 - acc: 0.8422 - val_loss: 0.4922 - val_acc: 0.8571\n",
      "Epoch 3/10\n",
      " - 118s - loss: 0.4035 - acc: 0.8802 - val_loss: 0.3986 - val_acc: 0.8871\n",
      "Epoch 4/10\n",
      " - 102s - loss: 0.3310 - acc: 0.9016 - val_loss: 0.3540 - val_acc: 0.8968\n",
      "Epoch 5/10\n",
      " - 116s - loss: 0.2757 - acc: 0.9160 - val_loss: 0.3420 - val_acc: 0.9010\n",
      "Epoch 6/10\n",
      " - 136s - loss: 0.2397 - acc: 0.9274 - val_loss: 0.3336 - val_acc: 0.9029\n",
      "Epoch 7/10\n",
      " - 133s - loss: 0.2136 - acc: 0.9345 - val_loss: 0.3308 - val_acc: 0.9087\n",
      "Epoch 8/10\n",
      " - 123s - loss: 0.1865 - acc: 0.9414 - val_loss: 0.3149 - val_acc: 0.9114\n",
      "Epoch 9/10\n",
      " - 115s - loss: 0.1683 - acc: 0.9479 - val_loss: 0.3303 - val_acc: 0.9077\n",
      "Epoch 10/10\n",
      " - 98s - loss: 0.1477 - acc: 0.9536 - val_loss: 0.3176 - val_acc: 0.9140\n"
     ]
    }
   ],
   "source": [
    "model = cnn_model()\n",
    "history = model.fit(X_train, y_train, validation_split=0.15, epochs=10, batch_size = 150, verbose=2)"
   ]
  },
  {
   "cell_type": "code",
   "execution_count": 16,
   "metadata": {},
   "outputs": [
    {
     "name": "stdout",
     "output_type": "stream",
     "text": [
      "Accuracy is: 91.97%\n"
     ]
    }
   ],
   "source": [
    "scores = model.evaluate(X_test, y_test, verbose=0)\n",
    "print(\"Accuracy is: %.2f%%\" % (scores[1]*100))"
   ]
  },
  {
   "cell_type": "code",
   "execution_count": 17,
   "metadata": {},
   "outputs": [
    {
     "data": {
      "image/png": "[encoded data removed]",
      "text/plain": [
       "<matplotlib.figure.Figure at 0x116f4c850>"
      ]
     },
     "metadata": {},
     "output_type": "display_data"
    },
    {
     "data": {
      "image/png": "[encoded data removed]",
      "text/plain": [
       "<matplotlib.figure.Figure at 0x119899510>"
      ]
     },
     "metadata": {},
     "output_type": "display_data"
    }
   ],
   "source": [
    "# summarize history for accuracy\n",
    "plt.plot(history.history['acc'])\n",
    "plt.plot(history.history['val_acc'])\n",
    "plt.title('model accuracy')\n",
    "plt.ylabel('accuracy')\n",
    "plt.xlabel('epoch')\n",
    "plt.legend(['train', 'validation'], loc='upper left')\n",
    "plt.show()\n",
    "# summarize history for loss\n",
    "plt.plot(history.history['loss'])\n",
    "plt.plot(history.history['val_loss'])\n",
    "plt.title('model loss')\n",
    "plt.ylabel('loss')\n",
    "plt.xlabel('epoch')\n",
    "\n",
    "plt.legend(['train', 'validation'], loc='upper left')\n",
    "plt.show()"
   ]
  },
  {
   "cell_type": "code",
   "execution_count": null,
   "metadata": {
    "collapsed": true
   },
   "outputs": [],
   "source": []
  }
 ],
 "metadata": {
  "kernelspec": {
   "display_name": "Python 3",
   "language": "python",
   "name": "python3"
  },
  "language_info": {
   "codemirror_mode": {
    "name": "ipython",
    "version": 3
   },
   "file_extension": ".py",
   "mimetype": "text/x-python",
   "name": "python",
   "nbconvert_exporter": "python",
   "pygments_lexer": "ipython3",
   "version": "3.6.2"
  }
 },
 "nbformat": 4,
 "nbformat_minor": 2
}
