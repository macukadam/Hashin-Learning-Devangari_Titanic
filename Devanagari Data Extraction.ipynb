{
 "cells": [
  {
   "cell_type": "code",
   "execution_count": 19,
   "metadata": {},
   "outputs": [
    {
     "name": "stdout",
     "output_type": "stream",
     "text": [
      "=============================================="
     ]
    }
   ],
   "source": [
    "import os\n",
    "\n",
    "import numpy as np\n",
    "import pandas as pd\n",
    "from sklearn.preprocessing import LabelEncoder\n",
    "\n",
    "import matplotlib.pyplot as plt\n",
    "\n",
    "%matplotlib inline\n",
    "\n",
    "num_classes = 46\n",
    "img_width = 32\n",
    "img_height = 32\n",
    "pixel_lenght=img_width*img_height\n",
    "img_depth = 1\n",
    "\n",
    "\n",
    "root_dir = os.getcwd()\n",
    "img_dir = os.path.join(root_dir, 'Images')\n",
    "\n",
    "pixels = np.array(['pixel_{:04d}'.format(x) for x in range(pixel_lenght)])\n",
    "flag = True\n",
    "\n",
    "for char_name in sorted(os.listdir(img_dir)):\n",
    "    char_dir = os.path.join(img_dir, char_name)\n",
    "    img_df = pd.DataFrame(columns=pixels)\n",
    "    \n",
    "    for img_file in sorted(os.listdir(char_dir)):\n",
    "        image = pd.Series(imread(os.path.join(char_dir, img_file)).flatten(), index=pixels)\n",
    "        img_df = img_df.append(image.T, ignore_index=True)\n",
    "        \n",
    "    img_df = img_df.astype(np.uint8)\n",
    "    img_df['character'] = char_name\n",
    "    \n",
    "    img_df.to_csv('Data\\data.csv', index=False, mode='a', header=flag)\n",
    "    flag=False\n",
    "    \n",
    "    print('=', end='')"
   ]
  }
 ],
 "metadata": {
  "kernelspec": {
   "display_name": "Python 3",
   "language": "python",
   "name": "python3"
  },
  "language_info": {
   "codemirror_mode": {
    "name": "ipython",
    "version": 3
   },
   "file_extension": ".py",
   "mimetype": "text/x-python",
   "name": "python",
   "nbconvert_exporter": "python",
   "pygments_lexer": "ipython3",
   "version": "3.6.2"
  }
 },
 "nbformat": 4,
 "nbformat_minor": 2
}
